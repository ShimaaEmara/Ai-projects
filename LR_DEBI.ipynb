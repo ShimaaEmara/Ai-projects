{
  "nbformat": 4,
  "nbformat_minor": 0,
  "metadata": {
    "colab": {
      "provenance": []
    },
    "kernelspec": {
      "name": "python3",
      "display_name": "Python 3"
    },
    "language_info": {
      "name": "python"
    }
  },
  "cells": [
    {
      "cell_type": "code",
      "execution_count": 1,
      "metadata": {
        "colab": {
          "base_uri": "https://localhost:8080/",
          "height": 283
        },
        "id": "HQmHuC1cvgjL",
        "outputId": "f2b4ab9a-f3af-4f7e-a107-67c12e74e9ee"
      },
      "outputs": [
        {
          "output_type": "execute_result",
          "data": {
            "text/plain": [
              "<matplotlib.collections.PathCollection at 0x7fa198810290>"
            ]
          },
          "metadata": {},
          "execution_count": 1
        },
        {
          "output_type": "display_data",
          "data": {
            "text/plain": [
              "<Figure size 432x288 with 1 Axes>"
            ],
            "image/png": "[encoded data removed]"
          },
          "metadata": {
            "needs_background": "light"
          }
        }
      ],
      "source": [
        "#Import the required modules, numpy for calculation, and Matplotlib for drawing\n",
        "import numpy as np\n",
        "import matplotlib.pyplot as plt\n",
        "#This code is for jupyter Notebook only\n",
        "%matplotlib inline\n",
        "# define data, and change list to array\n",
        "x = [3,21,22,34,54,34,55,67,89,99]\n",
        "x = np.array(x)\n",
        "y = [1,10,14,34,44,36,22,67,79,90]\n",
        "y = np.array(y)\n",
        "#Show the effect of a scatter plot\n",
        "plt.scatter(x,y)\n"
      ]
    },
    {
      "cell_type": "code",
      "source": [
        "#The basic linear regression model is wx+ b, and since this is a two-dimensional space, the model is ax+ b\n",
        "def model(a, b, x):\n",
        "  return a*x + b\n"
      ],
      "metadata": {
        "id": "HKMRDSSovuCs"
      },
      "execution_count": 2,
      "outputs": []
    },
    {
      "cell_type": "code",
      "source": [
        "#The most commonly used loss function of linear regression model is the loss function of mean variance difference\n",
        "def loss_function(a, b, x, y):\n",
        "  num = len(x)\n",
        "  prediction=model(a,b,x)\n",
        "  return (0.5/num) * (np.square(prediction-y)).sum()\n"
      ],
      "metadata": {
        "id": "ICNSlD0Hy2-c"
      },
      "execution_count": 3,
      "outputs": []
    },
    {
      "cell_type": "code",
      "source": [
        "#The optimization function mainly USES partial derivatives to update two parameters a and b\n",
        "def optimize(a,b,x,y):\n",
        "  num = len(x)\n",
        "  prediction = model(a,b,x)\n",
        "#Update the values of A and B by finding the partial derivatives of the loss function on a and b\n",
        "  da = (1.0/num) * ((prediction -y)*x).sum()\n",
        "  db = (1.0/num) * ((prediction -y).sum())\n",
        "  a = a - Lr*da\n",
        "  b = b - Lr*db\n",
        "  return a, b"
      ],
      "metadata": {
        "id": "fGPkm-F9y3yM"
      },
      "execution_count": 8,
      "outputs": []
    },
    {
      "cell_type": "code",
      "source": [
        "#iterated function, return a and b\n",
        "def iterate(a,b,x,y,times):\n",
        "  for i in range(times):\n",
        "    a,b = optimize(a,b,x,y)\n",
        "  return a,b"
      ],
      "metadata": {
        "id": "p-OczoMny4Br"
      },
      "execution_count": 9,
      "outputs": []
    },
    {
      "cell_type": "code",
      "source": [
        "#Initialize parameters and display\n",
        "a = np.random.rand(1)\n",
        "print(a)\n",
        "b = np.random.rand(1)\n",
        "print(b)\n",
        "Lr = 1e-4\n",
        "#For the first iteration, the parameter values, losses, and visualization after the iteration are displayed\n",
        "a,b = iterate(a,b,x,y,1)\n",
        "prediction=model(a,b,x)\n",
        "loss = loss_function(a, b, x, y)\n",
        "print(a,b,loss)\n",
        "plt.scatter(x,y)\n",
        "plt.plot(x,prediction)"
      ],
      "metadata": {
        "colab": {
          "base_uri": "https://localhost:8080/",
          "height": 337
        },
        "id": "Dko-i17vw7UM",
        "outputId": "145a613f-92fa-47a5-f932-1dc81bed58b3"
      },
      "execution_count": 10,
      "outputs": [
        {
          "output_type": "stream",
          "name": "stdout",
          "text": [
            "[0.08587609]\n",
            "[0.3473332]\n",
            "[0.32642246] [0.35085798] 480.2009718056395\n"
          ]
        },
        {
          "output_type": "execute_result",
          "data": {
            "text/plain": [
              "[<matplotlib.lines.Line2D at 0x7fa198301bd0>]"
            ]
          },
          "metadata": {},
          "execution_count": 10
        },
        {
          "output_type": "display_data",
          "data": {
            "text/plain": [
              "<Figure size 432x288 with 1 Axes>"
            ],
            "image/png": "[encoded data removed]"
          },
          "metadata": {
            "needs_background": "light"
          }
        }
      ]
    },
    {
      "cell_type": "code",
      "source": [
        "a,b = iterate(a,b,x,y,2)\n",
        "prediction=model(a,b,x)\n",
        "loss = loss_function(a, b, x, y)\n",
        "print(a,b,loss)\n",
        "plt.scatter(x,y)\n",
        "plt.plot(x,prediction)\n"
      ],
      "metadata": {
        "colab": {
          "base_uri": "https://localhost:8080/",
          "height": 301
        },
        "id": "XnwKuxu3xPni",
        "outputId": "099ffe05-ba41-4ed4-b7b1-9a149541e436"
      },
      "execution_count": 11,
      "outputs": [
        {
          "output_type": "stream",
          "name": "stdout",
          "text": [
            "[0.60460909] [0.35481826] 142.63505767469155\n"
          ]
        },
        {
          "output_type": "execute_result",
          "data": {
            "text/plain": [
              "[<matplotlib.lines.Line2D at 0x7fa19827e2d0>]"
            ]
          },
          "metadata": {},
          "execution_count": 11
        },
        {
          "output_type": "display_data",
          "data": {
            "text/plain": [
              "<Figure size 432x288 with 1 Axes>"
            ],
            "image/png": "[encoded data removed]"
          },
          "metadata": {
            "needs_background": "light"
          }
        }
      ]
    },
    {
      "cell_type": "code",
      "source": [
        "a,b = iterate(a,b,x,y,3)\n",
        "prediction=model(a,b,x)\n",
        "loss = loss_function(a, b, x, y)\n",
        "print(a,b,loss)\n",
        "plt.scatter(x,y)\n",
        "plt.plot(x,prediction)"
      ],
      "metadata": {
        "colab": {
          "base_uri": "https://localhost:8080/",
          "height": 301
        },
        "id": "xYgfq1eXxfZk",
        "outputId": "4a7a1002-2c5d-42f2-9402-b0c61a43c731"
      },
      "execution_count": 12,
      "outputs": [
        {
          "output_type": "stream",
          "name": "stdout",
          "text": [
            "[0.77203668] [0.35695465] 56.64849472431129\n"
          ]
        },
        {
          "output_type": "execute_result",
          "data": {
            "text/plain": [
              "[<matplotlib.lines.Line2D at 0x7fa1981e1ad0>]"
            ]
          },
          "metadata": {},
          "execution_count": 12
        },
        {
          "output_type": "display_data",
          "data": {
            "text/plain": [
              "<Figure size 432x288 with 1 Axes>"
            ],
            "image/png": "[encoded data removed]"
          },
          "metadata": {
            "needs_background": "light"
          }
        }
      ]
    },
    {
      "cell_type": "code",
      "source": [
        "a,b = iterate(a,b,x,y,10000)\n",
        "prediction=model(a,b,x)\n",
        "loss = loss_function(a, b, x, y)\n",
        "print(a,b,loss)\n",
        "plt.scatter(x,y)\n",
        "plt.plot(x,prediction)\n"
      ],
      "metadata": {
        "colab": {
          "base_uri": "https://localhost:8080/",
          "height": 301
        },
        "id": "448Ix4YKxoD7",
        "outputId": "47f41fa8-5f16-43f3-f064-be3f6c97e7a5"
      },
      "execution_count": 13,
      "outputs": [
        {
          "output_type": "stream",
          "name": "stdout",
          "text": [
            "[0.87015679] [-0.84590488] 45.19066983568041\n"
          ]
        },
        {
          "output_type": "execute_result",
          "data": {
            "text/plain": [
              "[<matplotlib.lines.Line2D at 0x7fa19823be10>]"
            ]
          },
          "metadata": {},
          "execution_count": 13
        },
        {
          "output_type": "display_data",
          "data": {
            "text/plain": [
              "<Figure size 432x288 with 1 Axes>"
            ],
            "image/png": "[encoded data removed]"
          },
          "metadata": {
            "needs_background": "light"
          }
        }
      ]
    },
    {
      "cell_type": "code",
      "source": [
        "a,b"
      ],
      "metadata": {
        "colab": {
          "base_uri": "https://localhost:8080/"
        },
        "id": "8KwRYTH0yEXE",
        "outputId": "0b3e2cc8-0cbe-414e-eab2-7cc84ee10c30"
      },
      "execution_count": 14,
      "outputs": [
        {
          "output_type": "execute_result",
          "data": {
            "text/plain": [
              "(array([0.87015679]), array([-0.84590488]))"
            ]
          },
          "metadata": {},
          "execution_count": 14
        }
      ]
    },
    {
      "cell_type": "code",
      "source": [
        "prediction=model(a,b,10)\n",
        "prediction"
      ],
      "metadata": {
        "colab": {
          "base_uri": "https://localhost:8080/"
        },
        "id": "MpkWFGAhycsk",
        "outputId": "d1ec2d88-59ae-42ca-b778-bcc8a87a3b0c"
      },
      "execution_count": 15,
      "outputs": [
        {
          "output_type": "execute_result",
          "data": {
            "text/plain": [
              "array([7.85566307])"
            ]
          },
          "metadata": {},
          "execution_count": 15
        }
      ]
    }
  ]
}